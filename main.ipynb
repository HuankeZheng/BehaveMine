{
 "cells": [
  {
   "cell_type": "code",
   "execution_count": null,
   "id": "4d75e03e4f3b4a9",
   "metadata": {
    "collapsed": false
   },
   "outputs": [],
   "source": [
    "import os\n",
    "\n",
    "print(os.getcwd())\n",
    "os.chdir('D:/code/HAP/BehaveMine')\n",
    "print(os.getcwd())"
   ]
  },
  {
   "cell_type": "code",
   "execution_count": null,
   "id": "initial_id",
   "metadata": {},
   "outputs": [],
   "source": [
    "import importlib\n",
    "import pandas as pd\n",
    "import pickle\n",
    "\n",
    "import src.exp as exp\n",
    "import utils\n",
    "\n",
    "importlib.reload(exp)\n",
    "importlib.reload(utils)"
   ]
  },
  {
   "cell_type": "code",
   "execution_count": 49,
   "id": "582dee361efd1b0b",
   "metadata": {
    "collapsed": false,
    "ExecuteTime": {
     "end_time": "2025-01-15T07:24:42.522651300Z",
     "start_time": "2025-01-15T07:24:42.434044800Z"
    }
   },
   "outputs": [],
   "source": [
    "dataset = 'hh103'\n",
    "\n",
    "exp_dir = os.getcwd()\n",
    "\n",
    "with open(f'{exp_dir}/data/{dataset}/exp_data.pkl', 'rb') as f:\n",
    "    exp_data = pickle.load(f)\n",
    "\n",
    "with open(f'{exp_dir}/data/{dataset}/data_map.pkl', 'rb') as f:\n",
    "    data_map = pickle.load(f)\n",
    "\n",
    "\n",
    "def time_stage(time):\n",
    "    if 2 <= time < 6:\n",
    "        return 0\n",
    "    elif 6 <= time < 10:\n",
    "        return 1\n",
    "    elif 10 <= time < 14:\n",
    "        return 2\n",
    "    elif 14 <= time < 18:\n",
    "        return 3\n",
    "    elif 18 <= time < 22:\n",
    "        return 4\n",
    "    else:\n",
    "        return 5\n",
    "\n",
    "\n",
    "sensor_len = len(data_map['sensor_map'])\n",
    "length1 = []\n",
    "length2 = []\n",
    "\n",
    "for i in range(len(exp_data)):\n",
    "    item = exp_data[i]\n",
    "    item['time_stage'] = time_stage(item['start_time'].hour)\n",
    "\n",
    "    item['sensor_happen_id_list'] = item['sensor_happen_id_list'][-50:]\n",
    "    item['sensor_between_id_list'] = item['sensor_between_id_list'][-50:]\n",
    "    if len(item['sensor_between_id_list']) <= 0:\n",
    "        item['sensor_between_id_list'] = item['sensor_happen_id_list'][-1:]\n",
    "    length1.append(len(item['sensor_happen_id_list']))\n",
    "    length2.append(len(item['sensor_between_id_list']))\n",
    "\n",
    "length1 = pd.Series(length1)\n",
    "length2 = pd.Series(length2)\n",
    "\n",
    "train_data, test_data, eval_data = utils.split_data(exp_data)"
   ]
  },
  {
   "cell_type": "code",
   "execution_count": 45,
   "id": "26720085267a8614",
   "metadata": {
    "collapsed": false,
    "ExecuteTime": {
     "end_time": "2025-01-15T07:20:11.283293900Z",
     "start_time": "2025-01-15T07:20:11.258552700Z"
    }
   },
   "outputs": [],
   "source": [
    "importlib.reload(exp)\n",
    "importlib.reload(utils)\n",
    "\n",
    "# parameters\n",
    "epoch = 100\n",
    "lr = 0.001\n",
    "batch_size = 64\n",
    "model_params = {\n",
    "    'input_dim': [len(data_map['activity_map']), 6, len(data_map['location_map']),\n",
    "                  len(data_map['sensor_map'])],\n",
    "    'b_hidden_dim': [64, 4, 4], 's_hidden_dim': [64, 4, 4]}\n",
    "window_size = 6"
   ]
  },
  {
   "cell_type": "code",
   "execution_count": null,
   "id": "8494237f-b1bd-426d-8f14-b8fb08265626",
   "metadata": {},
   "outputs": [],
   "source": [
    "print(f'Training...')\n",
    "exp.train(train_data, test_data, epoch, lr, batch_size,\n",
    "          window_size, model_params, dataset)"
   ]
  },
  {
   "cell_type": "code",
   "execution_count": null,
   "id": "527a44e0-a3a2-494a-b0cc-e6d36826f257",
   "metadata": {},
   "outputs": [],
   "source": [
    "print(f'Evaluating...')\n",
    "eval_result = exp.eval(eval_data, window_size, model_params, dataset)\n",
    "accuracy, macro_f1 = utils.cal_accuracy(eval_result, len(data_map['activity_map']))\n",
    "print(accuracy)\n",
    "print(macro_f1)"
   ]
  },
  {
   "cell_type": "code",
   "execution_count": null,
   "outputs": [],
   "source": [],
   "metadata": {
    "collapsed": false
   },
   "id": "9330929e73c19662"
  }
 ],
 "metadata": {
  "kernelspec": {
   "display_name": "Python 3 (ipykernel)",
   "language": "python",
   "name": "python3"
  },
  "language_info": {
   "codemirror_mode": {
    "name": "ipython",
    "version": 3
   },
   "file_extension": ".py",
   "mimetype": "text/x-python",
   "name": "python",
   "nbconvert_exporter": "python",
   "pygments_lexer": "ipython3",
   "version": "3.12.3"
  }
 },
 "nbformat": 4,
 "nbformat_minor": 5
}
